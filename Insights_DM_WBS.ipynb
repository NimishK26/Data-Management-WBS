{
  "nbformat": 4,
  "nbformat_minor": 0,
  "metadata": {
    "colab": {
      "provenance": [],
      "include_colab_link": true
    },
    "kernelspec": {
      "name": "python3",
      "display_name": "Python 3"
    },
    "language_info": {
      "name": "python"
    }
  },
  "cells": [
    {
      "cell_type": "markdown",
      "metadata": {
        "id": "view-in-github",
        "colab_type": "text"
      },
      "source": [
        "<a href=\"https://colab.research.google.com/github/NimishK26/Data-Management-WBS/blob/main/Insights_DM_WBS.ipynb\" target=\"_parent\"><img src=\"https://colab.research.google.com/assets/colab-badge.svg\" alt=\"Open In Colab\"/></a>"
      ]
    },
    {
      "cell_type": "markdown",
      "source": [
        "# Database"
      ],
      "metadata": {
        "id": "zoZTrR5tMdCl"
      }
    },
    {
      "cell_type": "markdown",
      "source": [
        "**STEP 1: CREATE the SQLite database:**"
      ],
      "metadata": {
        "id": "FHsf7bKUMEEk"
      }
    },
    {
      "cell_type": "code",
      "execution_count": null,
      "metadata": {
        "colab": {
          "base_uri": "https://localhost:8080/"
        },
        "id": "RTUGH_HMsEt3",
        "outputId": "97a81b0b-9590-4039-f468-887cfdbc10f8"
      },
      "outputs": [
        {
          "output_type": "stream",
          "name": "stdout",
          "text": [
            "Database and tables created successfully!\n"
          ]
        }
      ],
      "source": [
        "import sqlite3\n",
        "\n",
        "# Establish a connection to the database file (or create it if it doesn't exist)\n",
        "conn = sqlite3.connect('Cartify.db')\n",
        "cursor = conn.cursor()\n",
        "\n",
        "# Customer Table\n",
        "cursor.execute('''\n",
        "CREATE TABLE customer_table (\n",
        "    customer_id TEXT PRIMARY KEY,\n",
        "    first_name TEXT NOT NULL,\n",
        "    last_name TEXT NOT NULL,\n",
        "    gender TEXT NOT NULL,\n",
        "    date_of_birth DATE NOT NULL,\n",
        "    email TEXT UNIQUE NOT NULL,\n",
        "    phone_number INTEGER UNIQUE NOT NULL,\n",
        "    address TEXT NOT NULL,\n",
        "    city_id TEXT NOT NULL,\n",
        "    postcode TEXT NOT NULL,\n",
        "    country_id TEXT NOT NULL,\n",
        "    FOREIGN KEY (city_id) REFERENCES city_table(city_id) ON DELETE CASCADE\n",
        "    FOREIGN KEY (country_id) REFERENCES country_table(country_id) ON DELETE CASCADE\n",
        ");\n",
        "''')\n",
        "\n",
        "# Orders Table\n",
        "cursor.execute('''\n",
        "CREATE TABLE orders_table (\n",
        "    order_id TEXT PRIMARY KEY,\n",
        "    customer_id TEXT NOT NULL,\n",
        "    order_date DATE NOT NULL,\n",
        "    discount_id INTEGER,\n",
        "    amount REAL NOT NULL,\n",
        "    FOREIGN KEY (customer_id) REFERENCES customer_table(customer_id) ON DELETE CASCADE,\n",
        "    FOREIGN KEY (discount_id) REFERENCES discount_table(discount_id) ON DELETE CASCADE\n",
        ");\n",
        "''')\n",
        "\n",
        "# Order Details Table\n",
        "cursor.execute('''\n",
        "CREATE TABLE order_details_table (\n",
        "    order_id TEXT,\n",
        "    product_id TEXT,\n",
        "    quantity INTEGER NOT NULL,\n",
        "    PRIMARY KEY (order_id, product_id),\n",
        "    FOREIGN KEY (order_id) REFERENCES orders_table(order_id) ON DELETE CASCADE,\n",
        "    FOREIGN KEY (product_id) REFERENCES products_table(product_id) ON DELETE CASCADE\n",
        ");\n",
        "''')\n",
        "\n",
        "# Products Table\n",
        "cursor.execute('''\n",
        "CREATE TABLE products_table (\n",
        "    product_id TEXT PRIMARY KEY,\n",
        "    product_name TEXT NOT NULL,\n",
        "    selling_price REAL NOT NULL,\n",
        "    category_id TEXT NOT NULL,\n",
        "    cost_price REAL NOT NULL,\n",
        "    stock INTEGER NOT NULL,\n",
        "    FOREIGN KEY (category_id) REFERENCES category_table(category_id) ON DELETE CASCADE\n",
        ");\n",
        "''')\n",
        "\n",
        "# Product Review Table\n",
        "cursor.execute('''\n",
        "CREATE TABLE product_review_table (\n",
        "    review_id INTEGER PRIMARY KEY AUTOINCREMENT,\n",
        "    customer_id TEXT NOT NULL,\n",
        "    product_id TEXT NOT NULL,\n",
        "    rating INTEGER CHECK (rating BETWEEN 1 AND 5) NOT NULL,\n",
        "    date DATE NOT NULL,\n",
        "    FOREIGN KEY (customer_id) REFERENCES customer_table(customer_id) ON DELETE CASCADE,\n",
        "    FOREIGN KEY (product_id) REFERENCES products_table(product_id) ON DELETE CASCADE\n",
        ");\n",
        "''')\n",
        "\n",
        "# Category Table\n",
        "cursor.execute('''\n",
        "CREATE TABLE category_table (\n",
        "    category_id TEXT PRIMARY KEY,\n",
        "    category_name TEXT UNIQUE NOT NULL\n",
        ");\n",
        "''')\n",
        "\n",
        "# Website Activity Table\n",
        "cursor.execute('''\n",
        "CREATE TABLE website_activity_table (\n",
        "    activity_id TEXT PRIMARY KEY,\n",
        "    category_id TEXT NOT NULL,\n",
        "    date DATE NOT NULL,\n",
        "    time TIME NOT NULL,\n",
        "    customer_id TEXT NOT NULL,\n",
        "    time_spent REAL NOT NULL,\n",
        "    order_placed TEXT CHECK (order_placed IN ('Y', 'N')) NOT NULL,\n",
        "    FOREIGN KEY (customer_id) REFERENCES customer_table(customer_id) ON DELETE CASCADE,\n",
        "    FOREIGN KEY (category_id) REFERENCES category_table(category_id) ON DELETE CASCADE\n",
        ");\n",
        "''')\n",
        "\n",
        "# Discount Table\n",
        "cursor.execute('''\n",
        "CREATE TABLE discount_table (\n",
        "    discount_id INTEGER PRIMARY KEY AUTOINCREMENT,\n",
        "    campaign_id INTEGER NOT NULL,\n",
        "    discount_type_id TEXT NOT NULL,\n",
        "    coupon_code TEXT UNIQUE NOT NULL,\n",
        "    FOREIGN KEY (discount_type_id) REFERENCES discount_type_table(discount_type_id) ON DELETE CASCADE,\n",
        "    FOREIGN KEY (campaign_id) REFERENCES campaign_engagement_table(campaign_id) ON DELETE CASCADE\n",
        ");\n",
        "''')\n",
        "\n",
        "# Discount Type Table\n",
        "cursor.execute('''\n",
        "CREATE TABLE discount_type_table (\n",
        "    discount_type_id TEXT PRIMARY KEY,\n",
        "    type_of_discount TEXT UNIQUE NOT NULL\n",
        "\n",
        ");\n",
        "''')\n",
        "\n",
        "# Campaign Type Table\n",
        "cursor.execute('''\n",
        "CREATE TABLE campaign_type_table (\n",
        "    campaign_type_id INTEGER PRIMARY KEY AUTOINCREMENT,\n",
        "    platform TEXT UNIQUE NOT NULL\n",
        ");\n",
        "''')\n",
        "\n",
        "# Marketing Campaigns Table\n",
        "cursor.execute('''\n",
        "CREATE TABLE marketing_campaigns_table (\n",
        "    campaign_id INTEGER NOT NULL,\n",
        "    city_id TEXT NOT NULL,\n",
        "    campaign_type_id INTEGER NOT NULL,\n",
        "    start_date DATE NOT NULL,\n",
        "    end_date DATE NOT NULL,\n",
        "    cost REAL NOT NULL,\n",
        "    PRIMARY KEY (campaign_id, city_id),\n",
        "    FOREIGN KEY (campaign_type_id) REFERENCES campaign_type_table(campaign_type_id) ON DELETE CASCADE,\n",
        "    FOREIGN KEY (city_id) REFERENCES city_table(city_id) ON DELETE CASCADE\n",
        ");\n",
        "''')\n",
        "\n",
        "# Campaign Engagement Table\n",
        "cursor.execute('''\n",
        "CREATE TABLE campaign_engagement_table (\n",
        "    campaign_id INTEGER PRIMARY KEY AUTOINCREMENT,\n",
        "    click_rate REAL NOT NULL,\n",
        "    reach INTEGER NOT NULL,\n",
        "    FOREIGN KEY (campaign_id) REFERENCES marketing_campaigns_table(campaign_id) ON DELETE CASCADE\n",
        ");\n",
        "''')\n",
        "\n",
        "# City Table\n",
        "cursor.execute('''\n",
        "CREATE TABLE city_table (\n",
        "    city_id TEXT PRIMARY KEY,\n",
        "    city TEXT UNIQUE NOT NULL,\n",
        "    region_id TEXT NOT NULL,\n",
        "    FOREIGN KEY (region_id) REFERENCES region_table(region_id) ON DELETE CASCADE\n",
        ");\n",
        "''')\n",
        "\n",
        "# Region Table\n",
        "cursor.execute('''\n",
        "CREATE TABLE region_table (\n",
        "    region_id TEXT PRIMARY KEY,\n",
        "    region TEXT UNIQUE NOT NULL\n",
        ");\n",
        "''')\n",
        "\n",
        "# Country Table\n",
        "cursor.execute('''\n",
        "CREATE TABLE country_table (\n",
        "    country_id TEXT PRIMARY KEY,\n",
        "    country TEXT UNIQUE NOT NULL\n",
        ");\n",
        "''')\n",
        "\n",
        "# Save the changes to the database\n",
        "conn.commit()\n",
        "\n",
        "print(\"Database and tables created successfully!\")\n"
      ]
    },
    {
      "cell_type": "markdown",
      "source": [
        "**STEP 2: Check Tables Created:**"
      ],
      "metadata": {
        "id": "giYTa2JnMGeq"
      }
    },
    {
      "cell_type": "code",
      "source": [
        "cursor.execute(\"SELECT name FROM sqlite_master WHERE type='table';\")\n",
        "tables = cursor.fetchall()\n",
        "\n",
        "for table_name in tables:\n",
        "    print(f\"Table: {table_name[0]}\")\n",
        "    cursor.execute(f\"PRAGMA table_info({table_name[0]});\")\n",
        "    columns = cursor.fetchall()\n",
        "    for col in columns:\n",
        "        print(f\"  Column: {col[1]}, Type: {col[2]}, NotNull: {col[3]}, DefaultVal: {col[4]}, PrimaryKey: {col[5]}\")\n",
        "    print(\"-\" * 20)"
      ],
      "metadata": {
        "colab": {
          "base_uri": "https://localhost:8080/"
        },
        "id": "TMYBTkBd8Tz9",
        "outputId": "960e7416-a534-4966-ea0d-06ec3e60e8fb"
      },
      "execution_count": null,
      "outputs": [
        {
          "output_type": "stream",
          "name": "stdout",
          "text": [
            "Table: customer_table\n",
            "  Column: customer_id, Type: TEXT, NotNull: 0, DefaultVal: None, PrimaryKey: 1\n",
            "  Column: first_name, Type: TEXT, NotNull: 1, DefaultVal: None, PrimaryKey: 0\n",
            "  Column: last_name, Type: TEXT, NotNull: 1, DefaultVal: None, PrimaryKey: 0\n",
            "  Column: gender, Type: TEXT, NotNull: 1, DefaultVal: None, PrimaryKey: 0\n",
            "  Column: date_of_birth, Type: DATE, NotNull: 1, DefaultVal: None, PrimaryKey: 0\n",
            "  Column: email, Type: TEXT, NotNull: 1, DefaultVal: None, PrimaryKey: 0\n",
            "  Column: phone_number, Type: INTEGER, NotNull: 1, DefaultVal: None, PrimaryKey: 0\n",
            "  Column: address, Type: TEXT, NotNull: 1, DefaultVal: None, PrimaryKey: 0\n",
            "  Column: city_id, Type: TEXT, NotNull: 1, DefaultVal: None, PrimaryKey: 0\n",
            "  Column: postcode, Type: TEXT, NotNull: 1, DefaultVal: None, PrimaryKey: 0\n",
            "  Column: country_id, Type: TEXT, NotNull: 1, DefaultVal: None, PrimaryKey: 0\n",
            "--------------------\n",
            "Table: orders_table\n",
            "  Column: order_id, Type: TEXT, NotNull: 0, DefaultVal: None, PrimaryKey: 1\n",
            "  Column: customer_id, Type: TEXT, NotNull: 1, DefaultVal: None, PrimaryKey: 0\n",
            "  Column: order_date, Type: DATE, NotNull: 1, DefaultVal: None, PrimaryKey: 0\n",
            "  Column: discount_id, Type: INTEGER, NotNull: 0, DefaultVal: None, PrimaryKey: 0\n",
            "  Column: amount, Type: REAL, NotNull: 1, DefaultVal: None, PrimaryKey: 0\n",
            "--------------------\n",
            "Table: order_details_table\n",
            "  Column: order_id, Type: TEXT, NotNull: 0, DefaultVal: None, PrimaryKey: 1\n",
            "  Column: product_id, Type: TEXT, NotNull: 0, DefaultVal: None, PrimaryKey: 2\n",
            "  Column: quantity, Type: INTEGER, NotNull: 1, DefaultVal: None, PrimaryKey: 0\n",
            "--------------------\n",
            "Table: products_table\n",
            "  Column: product_id, Type: TEXT, NotNull: 0, DefaultVal: None, PrimaryKey: 1\n",
            "  Column: product_name, Type: TEXT, NotNull: 1, DefaultVal: None, PrimaryKey: 0\n",
            "  Column: selling_price, Type: REAL, NotNull: 1, DefaultVal: None, PrimaryKey: 0\n",
            "  Column: category_id, Type: TEXT, NotNull: 1, DefaultVal: None, PrimaryKey: 0\n",
            "  Column: cost_price, Type: REAL, NotNull: 1, DefaultVal: None, PrimaryKey: 0\n",
            "  Column: stock, Type: INTEGER, NotNull: 1, DefaultVal: None, PrimaryKey: 0\n",
            "--------------------\n",
            "Table: product_review_table\n",
            "  Column: review_id, Type: INTEGER, NotNull: 0, DefaultVal: None, PrimaryKey: 1\n",
            "  Column: customer_id, Type: TEXT, NotNull: 1, DefaultVal: None, PrimaryKey: 0\n",
            "  Column: product_id, Type: TEXT, NotNull: 1, DefaultVal: None, PrimaryKey: 0\n",
            "  Column: rating, Type: INTEGER, NotNull: 1, DefaultVal: None, PrimaryKey: 0\n",
            "  Column: date, Type: DATE, NotNull: 1, DefaultVal: None, PrimaryKey: 0\n",
            "--------------------\n",
            "Table: sqlite_sequence\n",
            "  Column: name, Type: , NotNull: 0, DefaultVal: None, PrimaryKey: 0\n",
            "  Column: seq, Type: , NotNull: 0, DefaultVal: None, PrimaryKey: 0\n",
            "--------------------\n",
            "Table: category_table\n",
            "  Column: category_id, Type: TEXT, NotNull: 0, DefaultVal: None, PrimaryKey: 1\n",
            "  Column: category_name, Type: TEXT, NotNull: 1, DefaultVal: None, PrimaryKey: 0\n",
            "--------------------\n",
            "Table: website_activity_table\n",
            "  Column: activity_id, Type: TEXT, NotNull: 0, DefaultVal: None, PrimaryKey: 1\n",
            "  Column: category_id, Type: TEXT, NotNull: 1, DefaultVal: None, PrimaryKey: 0\n",
            "  Column: date, Type: DATE, NotNull: 1, DefaultVal: None, PrimaryKey: 0\n",
            "  Column: time, Type: TIME, NotNull: 1, DefaultVal: None, PrimaryKey: 0\n",
            "  Column: customer_id, Type: TEXT, NotNull: 1, DefaultVal: None, PrimaryKey: 0\n",
            "  Column: time_spent, Type: REAL, NotNull: 1, DefaultVal: None, PrimaryKey: 0\n",
            "  Column: order_placed, Type: TEXT, NotNull: 1, DefaultVal: None, PrimaryKey: 0\n",
            "--------------------\n",
            "Table: discount_table\n",
            "  Column: discount_id, Type: INTEGER, NotNull: 0, DefaultVal: None, PrimaryKey: 1\n",
            "  Column: campaign_id, Type: INTEGER, NotNull: 1, DefaultVal: None, PrimaryKey: 0\n",
            "  Column: discount_type_id, Type: TEXT, NotNull: 1, DefaultVal: None, PrimaryKey: 0\n",
            "  Column: coupon_code, Type: TEXT, NotNull: 1, DefaultVal: None, PrimaryKey: 0\n",
            "--------------------\n",
            "Table: discount_type_table\n",
            "  Column: discount_type_id, Type: TEXT, NotNull: 0, DefaultVal: None, PrimaryKey: 1\n",
            "  Column: type_of_discount, Type: TEXT, NotNull: 1, DefaultVal: None, PrimaryKey: 0\n",
            "--------------------\n",
            "Table: campaign_type_table\n",
            "  Column: campaign_type_id, Type: INTEGER, NotNull: 0, DefaultVal: None, PrimaryKey: 1\n",
            "  Column: platform, Type: TEXT, NotNull: 1, DefaultVal: None, PrimaryKey: 0\n",
            "--------------------\n",
            "Table: marketing_campaigns_table\n",
            "  Column: campaign_id, Type: INTEGER, NotNull: 1, DefaultVal: None, PrimaryKey: 1\n",
            "  Column: city_id, Type: TEXT, NotNull: 1, DefaultVal: None, PrimaryKey: 2\n",
            "  Column: campaign_type_id, Type: INTEGER, NotNull: 1, DefaultVal: None, PrimaryKey: 0\n",
            "  Column: start_date, Type: DATE, NotNull: 1, DefaultVal: None, PrimaryKey: 0\n",
            "  Column: end_date, Type: DATE, NotNull: 1, DefaultVal: None, PrimaryKey: 0\n",
            "  Column: cost, Type: REAL, NotNull: 1, DefaultVal: None, PrimaryKey: 0\n",
            "--------------------\n",
            "Table: campaign_engagement_table\n",
            "  Column: campaign_id, Type: INTEGER, NotNull: 0, DefaultVal: None, PrimaryKey: 1\n",
            "  Column: click_rate, Type: REAL, NotNull: 1, DefaultVal: None, PrimaryKey: 0\n",
            "  Column: reach, Type: INTEGER, NotNull: 1, DefaultVal: None, PrimaryKey: 0\n",
            "--------------------\n",
            "Table: city_table\n",
            "  Column: city_id, Type: TEXT, NotNull: 0, DefaultVal: None, PrimaryKey: 1\n",
            "  Column: city, Type: TEXT, NotNull: 1, DefaultVal: None, PrimaryKey: 0\n",
            "  Column: region_id, Type: TEXT, NotNull: 1, DefaultVal: None, PrimaryKey: 0\n",
            "--------------------\n",
            "Table: region_table\n",
            "  Column: region_id, Type: TEXT, NotNull: 0, DefaultVal: None, PrimaryKey: 1\n",
            "  Column: region, Type: TEXT, NotNull: 1, DefaultVal: None, PrimaryKey: 0\n",
            "--------------------\n",
            "Table: country_table\n",
            "  Column: country_id, Type: TEXT, NotNull: 0, DefaultVal: None, PrimaryKey: 1\n",
            "  Column: country, Type: TEXT, NotNull: 1, DefaultVal: None, PrimaryKey: 0\n",
            "--------------------\n"
          ]
        }
      ]
    },
    {
      "cell_type": "markdown",
      "source": [
        "**STEP 3: Load CSV files into the database tables:**"
      ],
      "metadata": {
        "id": "X5ixCWszMMJ3"
      }
    },
    {
      "cell_type": "code",
      "source": [
        "import csv\n",
        "\n",
        "def import_csv_to_table(csv_file, table_name):\n",
        "    #opens the file aas read only 'r', doesn't allow the origianl csv to be changed.\n",
        "    with open(csv_file, 'r', encoding='utf-8') as file:\n",
        "        csv_reader = csv.reader(file, delimiter=';')\n",
        "        next(csv_reader)  # Skip header row if present\n",
        "        for row in csv_reader:\n",
        "            #? creates a placeholder for each column in the CSV file. ['?','?','?'] - Join makes it a string so it can then be inserted.\n",
        "            # use of the '?' reduce risk of SQL injection\n",
        "            placeholders = ', '.join(['?' for _ in row])\n",
        "            #Assumes that the CSV and table have the same structure (this could be an issue) Would have to specify column names if different.\n",
        "            sql = f\"INSERT INTO {table_name} VALUES ({placeholders})\"\n",
        "            cursor.execute(sql, row)\n",
        "\n",
        "# Import data from CSV files into the relevant table - Student_Table goes into student table.  teh import_csv_to_table is the function, passing the two values across.\n",
        "try:\n",
        "    import_csv_to_table('customers.csv', 'customer_table')\n",
        "    import_csv_to_table('orders.csv', 'orders_table')\n",
        "    import_csv_to_table('orders_details.csv', 'order_details_table')\n",
        "    import_csv_to_table('product_data.csv', 'products_table')\n",
        "    import_csv_to_table('products_review.csv', 'product_review_table')\n",
        "    import_csv_to_table('marketing_campaigns.csv', 'marketing_campaigns_table')\n",
        "    import_csv_to_table('campaign_type.csv', 'campaign_type_table')\n",
        "    import_csv_to_table('discount.csv', 'discount_table')\n",
        "    import_csv_to_table('discount_types.csv', 'discount_type_table')\n",
        "    import_csv_to_table('campaign_engagement.csv', 'campaign_engagement_table')\n",
        "    import_csv_to_table('website_activity.csv', 'website_activity_table')\n",
        "    import_csv_to_table('category_data.csv', 'category_table')\n",
        "    import_csv_to_table('cities.csv', 'city_table')\n",
        "    import_csv_to_table('region.csv', 'region_table')\n",
        "    import_csv_to_table('country.csv', 'country_table')\n",
        "    conn.commit()\n",
        "    print(\"Data imported successfully!\")\n",
        "except Exception as e:\n",
        "    print(f\"An error occurred: {e}\")\n",
        "    conn.rollback()  # Rollback changes if an error occurred\n",
        "\n"
      ],
      "metadata": {
        "colab": {
          "base_uri": "https://localhost:8080/"
        },
        "id": "Fh6hKTHz8VkE",
        "outputId": "39edd45a-842d-44a9-e7e8-dc3ae387c4c7"
      },
      "execution_count": null,
      "outputs": [
        {
          "output_type": "stream",
          "name": "stdout",
          "text": [
            "Data imported successfully!\n"
          ]
        }
      ]
    },
    {
      "cell_type": "markdown",
      "source": [
        "**STEP 4: Check Data has loaded:**"
      ],
      "metadata": {
        "id": "xYK4wp6eMQT2"
      }
    },
    {
      "cell_type": "code",
      "source": [
        "import pandas as pd\n",
        "# Query each table and load into pandas DataFrames\n",
        "customer_df = pd.read_sql_query(\"SELECT * FROM customer_table\", conn)\n",
        "orders_df = pd.read_sql_query(\"SELECT * FROM orders_table\", conn)\n",
        "order_details_df = pd.read_sql_query(\"SELECT * FROM order_details_table\", conn)\n",
        "products_df = pd.read_sql_query(\"SELECT * FROM products_table\", conn)\n",
        "product_review_df = pd.read_sql_query(\"SELECT * FROM product_review_table\", conn)\n",
        "marketing_campaigns_df = pd.read_sql_query(\"SELECT * FROM marketing_campaigns_table\", conn)\n",
        "campaign_type_df = pd.read_sql_query(\"SELECT * FROM campaign_type_table\", conn)\n",
        "discount_df = pd.read_sql_query(\"SELECT * FROM discount_table\", conn)\n",
        "discount_types_df = pd.read_sql_query(\"SELECT * FROM discount_type_table\", conn)\n",
        "campaign_engagement_df = pd.read_sql_query(\"SELECT * FROM campaign_engagement_table\", conn)\n",
        "website_activity_df = pd.read_sql_query(\"SELECT * FROM website_activity_table\", conn)\n",
        "category_df = pd.read_sql_query(\"SELECT * FROM category_table\", conn)\n",
        "city_df = pd.read_sql_query(\"SELECT * FROM city_table\", conn)\n",
        "region_df = pd.read_sql_query(\"SELECT * FROM region_table\", conn)\n",
        "country_df = pd.read_sql_query(\"SELECT * FROM country_table\", conn)\n",
        "\n",
        "# Show the first 5 lines of each DataFrame\n",
        "print(\"Customer Table:\")\n",
        "print(customer_df.head(5))\n",
        "print(\"\\nOrders Table:\")\n",
        "print(orders_df.head(5))\n",
        "print(\"\\nOrder Details Table:\")\n",
        "print(order_details_df.head(5))\n",
        "print(\"\\nProducts Table:\")\n",
        "print(products_df.head(5))\n",
        "print(\"\\nProduct Review Table:\")\n",
        "print(product_review_df.head(5))\n",
        "print(\"\\nMarketing Campaigns Table:\")\n",
        "print(marketing_campaigns_df.head(5))\n",
        "print(\"\\nCampaign Type Table:\")\n",
        "print(campaign_type_df.head(5))\n",
        "print(\"\\nDiscount Table:\")\n",
        "print(discount_df.head(5))\n",
        "print(\"\\nDiscount Types Table:\")\n",
        "print(discount_types_df.head(5))\n",
        "print(\"\\nCampaign Engagement Table:\")\n",
        "print(campaign_engagement_df.head(5))\n",
        "print(\"\\nWebsite Activity Table:\")\n",
        "print(website_activity_df.head(5))\n",
        "print(\"\\nCategory Table:\")\n",
        "print(category_df.head(5))\n",
        "print(\"\\nCity Table:\")\n",
        "print(city_df.head(5))\n",
        "print(\"\\nRegion Table:\")\n",
        "print(region_df.head(5))\n",
        "print(\"\\nCountry Table:\")\n",
        "print(country_df.head(5))"
      ],
      "metadata": {
        "colab": {
          "base_uri": "https://localhost:8080/"
        },
        "id": "fRmDbQsXMUy7",
        "outputId": "50608594-cc6e-4fa6-bb13-2ac31e71a48f"
      },
      "execution_count": null,
      "outputs": [
        {
          "output_type": "stream",
          "name": "stdout",
          "text": [
            "Customer Table:\n",
            "  customer_id first_name last_name  gender date_of_birth  \\\n",
            "0   CUST97034   Victoria      Hill  Female    1994-06-09   \n",
            "1   CUST78652      Ethan     Sharp    Male    2000-06-14   \n",
            "2   CUST62025  Charlotte    Browne  Female    1982-10-15   \n",
            "3   CUST38259     Connor     Smith    Male    1986-08-11   \n",
            "4   CUST53488      Holly     Evans  Female    1997-12-07   \n",
            "\n",
            "                          email  phone_number              address city_id  \\\n",
            "0       victoria.hill@yahoo.com    7957263192  944 Williams circle    Y2VK   \n",
            "1       ethan.sharp@outlook.com    7808474504        59 Clive lock    B5VW   \n",
            "2  charlotte.browne@hotmail.com    7972272513        15 Derek land    XU5I   \n",
            "3        connor.smith@gmail.com    7881519870     327 Butler parks    30AN   \n",
            "4       holly.evans@hotmail.com    7658408505     390 Lynda bypass    KJRQ   \n",
            "\n",
            "  postcode country_id  \n",
            "0   E1 0AB       C001  \n",
            "1   M2 1BC       C001  \n",
            "2   B3 2CD       C001  \n",
            "3   G4 3DE       C001  \n",
            "4   L5 4EF       C001  \n",
            "\n",
            "Orders Table:\n",
            "  order_id customer_id  order_date discount_id    amount\n",
            "0    ZYY98   CUST51271  2024-12-13         670    163.17\n",
            "1    ZYGRH   CUST73447  2024-09-09         698   9643.52\n",
            "2    ZXYG6   CUST72546  2024-07-22              20870.11\n",
            "3    ZXXOY   CUST47951  2024-04-25                637.78\n",
            "4    ZXWHD   CUST92125  2024-02-05               1016.39\n",
            "\n",
            "Order Details Table:\n",
            "  order_id  product_id  quantity\n",
            "0    80GPC  B0C5LTPT2Q         8\n",
            "1    80GPC  B0CKLKWV6T         8\n",
            "2    80GPC  B09WMN46JS         5\n",
            "3    YSC9L  B0992XK6M8         9\n",
            "4    YSC9L  B09QMN67V2         2\n",
            "\n",
            "Products Table:\n",
            "   product_id                                       product_name  \\\n",
            "0  B00XLHSZ74  AQUALONA√Ç¬Æ Premium Thermoplastic Toilet Seat...   \n",
            "1  B07Z1YTD9R                      LEONE LEGGINS DONNA EXTREMA 3   \n",
            "2  B0BHJ1MNY4  Skang Gilet for Women UK Longline Quilted Plai...   \n",
            "3  B0C4LBK1T7  DIYIOUZHOU Ladies Tops And Blouses Shorts Slee...   \n",
            "4  B0CGX6XR41  Vogrtcc Women's Loose Sweaters O-Neck Tops Lon...   \n",
            "\n",
            "   selling_price category_id  cost_price  stock  \n",
            "0          26.99        E387       12.28     46  \n",
            "1          25.49        E387       11.41     28  \n",
            "2          37.59        E387       17.53     65  \n",
            "3           7.49        E387        3.12     45  \n",
            "4          49.43        E387       23.30     89  \n",
            "\n",
            "Product Review Table:\n",
            "   review_id customer_id  product_id  rating        date\n",
            "0     100525   CUST14214  B00HFOVTOK       4  2024-10-02\n",
            "1     100557   CUST35569  B0773NKVWZ       5  2024-02-16\n",
            "2     103284   CUST38773  B07QGQLPWG       2  2024-05-12\n",
            "3     103572   CUST27894  B0CHBMQBPV       5  2024-04-28\n",
            "4     104166   CUST74610  B09J6GB4VB       4  2024-01-01\n",
            "\n",
            "Marketing Campaigns Table:\n",
            "   campaign_id city_id  campaign_type_id  start_date    end_date    cost\n",
            "0         1001    Y2VK                 5  2024-08-01  2024-08-15  6000.0\n",
            "1         1002    B5VW                 3  2024-08-11  2024-08-25  7500.0\n",
            "2         1003    XU5I                 7  2024-08-21  2024-09-04  4500.0\n",
            "3         1004    30AN                 2  2024-09-02  2024-09-16  9000.0\n",
            "4         1005    KJRQ                 6  2024-09-12  2024-09-26  3500.0\n",
            "\n",
            "Campaign Type Table:\n",
            "   campaign_type_id    platform\n",
            "0                 1   Instagram\n",
            "1                 2    Facebook\n",
            "2                 3      TikTok\n",
            "3                 4       Email\n",
            "4                 5  Google Ads\n",
            "\n",
            "Discount Table:\n",
            "   discount_id  campaign_id discount_type_id coupon_code\n",
            "0          103         1014             D009       625UB\n",
            "1          110         1011             D006       RZV43\n",
            "2          115         1005             D014       WBCFR\n",
            "3          133         1008             D020       YTRPX\n",
            "4          140         1013             D020       IDK0J\n",
            "\n",
            "Discount Types Table:\n",
            "  discount_type_id             type_of_discount\n",
            "0             D001  Exclusive App-Only Discount\n",
            "1             D002         Buy One Get One Free\n",
            "2             D003                 Holiday Sale\n",
            "3             D004                   Flash Sale\n",
            "4             D005            Seasonal Discount\n",
            "\n",
            "Campaign Engagement Table:\n",
            "   campaign_id  click_rate   reach\n",
            "0         1001         2.5  200000\n",
            "1         1002         3.4  350000\n",
            "2         1003         4.7  480000\n",
            "3         1004         5.2  600000\n",
            "4         1005         6.3  720000\n",
            "\n",
            "Website Activity Table:\n",
            "  activity_id category_id        date       time customer_id  time_spent  \\\n",
            "0       X7KIY        E387  2024-07-30   14:19:45   CUST84253         6.8   \n",
            "1       XFLYV        TG47  2024-06-22   12:28:55   CUST82606         9.0   \n",
            "2       9F4D8        A2CA  2024-05-01   21:37:43   CUST72915         7.7   \n",
            "3       MZ1X3        7FE3  2024-03-23   08:44:36   CUST62592         6.1   \n",
            "4       FWXLE        A2CA  2024-04-03   13:55:59   CUST71535         8.8   \n",
            "\n",
            "  order_placed  \n",
            "0            N  \n",
            "1            N  \n",
            "2            Y  \n",
            "3            N  \n",
            "4            N  \n",
            "\n",
            "Category Table:\n",
            "  category_id     category_name\n",
            "0        E387     Miscellaneous\n",
            "1        TG47   Health & Beauty\n",
            "2        ZP25  Food & Beverages\n",
            "3        O4BF      Home & Decor\n",
            "4        7EE3       Electronics\n",
            "\n",
            "City Table:\n",
            "  city_id                city region_id\n",
            "0    18KT  North warwickshire     Q5B1W\n",
            "1    285N         North devon     W4K2T\n",
            "2    30AN             Glasgow     NIZUV\n",
            "3    33ZJ       Aberdeen city     18Y3Q\n",
            "4    3H9C                Wyre     L3D2X\n",
            "\n",
            "Region Table:\n",
            "  region_id                    region\n",
            "0     G7B9Q            Greater London\n",
            "1     L3D2X        North West England\n",
            "2     Q5B1W             West Midlands\n",
            "3     NIZUV          Glasgow & Argyll\n",
            "4     R6Q5Y  Yorkshire and the Humber\n",
            "\n",
            "Country Table:\n",
            "  country_id         country\n",
            "0       C001  United Kingdom\n"
          ]
        }
      ]
    },
    {
      "cell_type": "markdown",
      "source": [
        "# Insights"
      ],
      "metadata": {
        "id": "xtcawBbdMZVX"
      }
    },
    {
      "cell_type": "markdown",
      "source": [
        "**Campaign ROI**"
      ],
      "metadata": {
        "id": "Xm2Y6GlZMiHt"
      }
    },
    {
      "cell_type": "code",
      "source": [
        "import pandas as pd\n",
        "\n",
        "# 1. Product Profit DataFrame: Calculate profit per product\n",
        "Product_Profit_df = pd.read_sql_query(\"\"\"\n",
        "SELECT\n",
        "    product_id,\n",
        "    product_name,\n",
        "    selling_price,\n",
        "    cost_price,\n",
        "    (selling_price - cost_price) AS profit\n",
        "FROM products_table;\n",
        "\"\"\", conn)\n",
        "\n",
        "\n",
        "# 2. Total Profit DataFrame: Calculate profit per order detail record\n",
        "Total_Profit_df = pd.read_sql_query(\"\"\"\n",
        "SELECT\n",
        "    od.product_id,\n",
        "    od.quantity,\n",
        "    p.product_name,\n",
        "    p.selling_price,\n",
        "    p.cost_price,\n",
        "    ((p.selling_price - p.cost_price) * od.quantity) AS total_profit\n",
        "FROM order_details_table AS od\n",
        "JOIN products_table AS p\n",
        "  ON od.product_id = p.product_id;\n",
        "\"\"\", conn)\n",
        "\n",
        "\n",
        "# 3. Order Total Profit DataFrame: Aggregate total profit per order\n",
        "Order_Total_Profit_df = pd.read_sql_query(\"\"\"\n",
        "SELECT\n",
        "    o.order_id,\n",
        "    SUM((p.selling_price - p.cost_price) * od.quantity) AS total_profit\n",
        "FROM orders_table AS o\n",
        "JOIN order_details_table AS od\n",
        "  ON o.order_id = od.order_id\n",
        "JOIN products_table AS p\n",
        "  ON od.product_id = p.product_id\n",
        "GROUP BY o.order_id;\n",
        "\"\"\", conn)\n",
        "\n",
        "# 4. Campaign ROI DataFrame:\n",
        "#    For orders on or after 2024-08-01, compute per campaign:\n",
        "#    - Sum total_profit (aggregated via discount_table)\n",
        "#    - Sum marketing_cost from marketing_campaigns_table\n",
        "#    - Compute Campaign_ROI_percentage as a percentage value rounded to 2 decimals with a \"%\" sign.\n",
        "Campaign_ROI_df = pd.read_sql_query(\"\"\"\n",
        "WITH order_profit AS (\n",
        "    SELECT\n",
        "         o.order_id,\n",
        "         o.discount_id,\n",
        "         SUM((p.selling_price - p.cost_price) * od.quantity) AS total_profit\n",
        "    FROM orders_table o\n",
        "    JOIN order_details_table od\n",
        "      ON o.order_id = od.order_id\n",
        "    JOIN products_table p\n",
        "      ON od.product_id = p.product_id\n",
        "    WHERE o.order_date >= '2024-08-01'\n",
        "    GROUP BY o.order_id, o.discount_id\n",
        "),\n",
        "profit_per_campaign AS (\n",
        "    SELECT\n",
        "         d.campaign_id,\n",
        "         SUM(op.total_profit) AS total_profit\n",
        "    FROM order_profit op\n",
        "    JOIN discount_table d\n",
        "      ON op.discount_id = d.discount_id\n",
        "    GROUP BY d.campaign_id\n",
        "),\n",
        "cost_per_campaign AS (\n",
        "    SELECT\n",
        "         campaign_id,\n",
        "         SUM(cost) AS total_marketing_cost\n",
        "    FROM marketing_campaigns_table\n",
        "    GROUP BY campaign_id\n",
        ")\n",
        "SELECT\n",
        "    p.campaign_id,\n",
        "    c.total_marketing_cost,\n",
        "    p.total_profit,\n",
        "    ROUND(((p.total_profit - c.total_marketing_cost) / c.total_marketing_cost) * 100, 2) || '%' AS Campaign_ROI\n",
        "FROM profit_per_campaign p\n",
        "JOIN cost_per_campaign c\n",
        "  ON p.campaign_id = c.campaign_id;\n",
        "\"\"\", conn)\n",
        "\n",
        "print(Campaign_ROI_df)\n"
      ],
      "metadata": {
        "colab": {
          "base_uri": "https://localhost:8080/"
        },
        "id": "0g9wMO5FJXAC",
        "outputId": "9053952a-6953-4097-a7b1-7bee91fb1f4a"
      },
      "execution_count": null,
      "outputs": [
        {
          "output_type": "stream",
          "name": "stdout",
          "text": [
            "    campaign_id  total_marketing_cost  total_profit Campaign_ROI\n",
            "0          1001               48000.0      38409.37      -19.98%\n",
            "1          1002               60000.0      39738.76      -33.77%\n",
            "2          1003               36000.0      64804.27       80.01%\n",
            "3          1004               72000.0      47690.27      -33.76%\n",
            "4          1005               28000.0      44375.74       58.48%\n",
            "5          1006               52000.0      67894.98       30.57%\n",
            "6          1007               56000.0      38560.37      -31.14%\n",
            "7          1008               38500.0      52360.71        36.0%\n",
            "8          1009               49000.0      28978.09      -40.86%\n",
            "9          1010               28000.0      48504.50       73.23%\n",
            "10         1011               59500.0      48581.41      -18.35%\n",
            "11         1012               21000.0      48047.82       128.8%\n",
            "12         1013               66500.0      39222.97      -41.02%\n",
            "13         1014               35000.0      43510.32       24.32%\n",
            "14         1015               70000.0      48508.20       -30.7%\n"
          ]
        }
      ]
    },
    {
      "cell_type": "markdown",
      "source": [
        "# **Customer Retention**"
      ],
      "metadata": {
        "id": "-gaf9P3QLl5b"
      }
    },
    {
      "cell_type": "code",
      "source": [
        "Customer_Retention_df = pd.read_sql_query(\"\"\"\n",
        "WITH OrderCounts AS (\n",
        "    SELECT customer_id, COUNT(*) AS OrderCount\n",
        "    FROM orders_table\n",
        "    GROUP BY customer_id\n",
        ")\n",
        "SELECT\n",
        "    COUNT(DISTINCT c.customer_id) AS total_customers,\n",
        "    COUNT(DISTINCT CASE WHEN oc.OrderCount >= 2 THEN c.customer_id END)  AS repeating_customers,\n",
        "    ROUND(\n",
        "        CASE\n",
        "            WHEN COUNT(DISTINCT c.customer_id) = 0 THEN 0\n",
        "            ELSE (COUNT(DISTINCT CASE WHEN oc.OrderCount >= 2 THEN c.customer_id END) * 100.0) / COUNT(DISTINCT c.customer_id)\n",
        "        END, 0\n",
        "    ) || '%' AS RepeatCustomersPercentage\n",
        "FROM customer_table c\n",
        "LEFT JOIN OrderCounts oc\n",
        "  ON c.customer_id = oc.customer_id;\n",
        "\n",
        "\"\"\", conn)\n",
        "\n",
        "print(Customer_Retention_df)\n",
        "\n"
      ],
      "metadata": {
        "colab": {
          "base_uri": "https://localhost:8080/"
        },
        "id": "Zv9BKGPj50w4",
        "outputId": "bb198db3-c70e-4b45-ed51-40f8953a20a8"
      },
      "execution_count": null,
      "outputs": [
        {
          "output_type": "stream",
          "name": "stdout",
          "text": [
            "   total_customers  repeating_customers RepeatCustomersPercentage\n",
            "0              698                  544                     78.0%\n"
          ]
        }
      ]
    },
    {
      "cell_type": "markdown",
      "source": [
        "# **Order Abandonment Rate**"
      ],
      "metadata": {
        "id": "aZccM0FxMk89"
      }
    },
    {
      "cell_type": "code",
      "source": [
        "Order_Abandonment_Rate_df = pd.read_sql_query(\"\"\"\n",
        "SELECT\n",
        "    t.total_customers,\n",
        "    n.notbuying_customers,\n",
        "    ROUND(\n",
        "      CASE\n",
        "        WHEN t.total_customers = 0 THEN 0\n",
        "        ELSE (n.notbuying_customers * 100.0) / t.total_customers\n",
        "      END, 0\n",
        "    ) || '%' AS order_abandonment_rate\n",
        "FROM\n",
        "    (SELECT COUNT(order_placed) AS total_customers FROM website_activity_table) AS t\n",
        "JOIN\n",
        "    (SELECT COUNT(order_placed) AS notbuying_customers\n",
        "     FROM website_activity_table\n",
        "     WHERE order_placed = 'N') AS n;\n",
        "\"\"\", conn)\n",
        "\n",
        "print(Order_Abandonment_Rate_df)\n"
      ],
      "metadata": {
        "colab": {
          "base_uri": "https://localhost:8080/"
        },
        "id": "vlZ_SHKB7d_3",
        "outputId": "e61c6d3a-a634-496a-d260-78f31da746da"
      },
      "execution_count": null,
      "outputs": [
        {
          "output_type": "stream",
          "name": "stdout",
          "text": [
            "   total_customers  notbuying_customers order_abandonment_rate\n",
            "0              700                  318                  45.0%\n"
          ]
        }
      ]
    },
    {
      "cell_type": "markdown",
      "source": [
        "# **Average Order Count**"
      ],
      "metadata": {
        "id": "87STGRWpNAl5"
      }
    },
    {
      "cell_type": "code",
      "source": [
        "Avg_Order_Count_df = pd.read_sql_query(\"\"\"\n",
        "SELECT\n",
        "    ROUND(AVG(order_count), 2) AS avg_order_count\n",
        "FROM (\n",
        "    SELECT\n",
        "        customer_id,\n",
        "        COUNT(DISTINCT order_id) AS order_count\n",
        "    FROM orders_table\n",
        "    GROUP BY customer_id\n",
        ") AS OrderCounts;\n",
        "\"\"\", conn)\n",
        "\n",
        "print(Avg_Order_Count_df)\n"
      ],
      "metadata": {
        "colab": {
          "base_uri": "https://localhost:8080/"
        },
        "id": "Fp04abwAOmaK",
        "outputId": "3b571e52-dab2-4d0c-ad08-07ef7bb183c2"
      },
      "execution_count": null,
      "outputs": [
        {
          "output_type": "stream",
          "name": "stdout",
          "text": [
            "   avg_order_count\n",
            "0             3.07\n"
          ]
        }
      ]
    },
    {
      "cell_type": "markdown",
      "source": [
        "# **Average of Campaign ROI**"
      ],
      "metadata": {
        "id": "fxap2fTiQN5A"
      }
    },
    {
      "cell_type": "code",
      "source": [
        "Company_ROI_df = pd.read_sql_query(\"\"\"\n",
        "SELECT\n",
        "    ROUND(\n",
        "        CASE\n",
        "            WHEN cc.total_marketing_cost = 0 THEN 0\n",
        "            ELSE ((cp.total_profit - cc.total_marketing_cost) / NULLIF(cc.total_marketing_cost, 0)) * 100\n",
        "        END, 2\n",
        "    ) || '%' AS Company_ROI\n",
        "FROM\n",
        "    (SELECT SUM((p.selling_price - p.cost_price) * od.quantity) AS total_profit\n",
        "     FROM orders_table o\n",
        "     JOIN order_details_table od\n",
        "       ON o.order_id = od.order_id\n",
        "     JOIN products_table p\n",
        "       ON od.product_id = p.product_id\n",
        "     WHERE o.order_date >= '2024-08-01'\n",
        "    ) AS cp\n",
        "JOIN\n",
        "    (SELECT SUM(cost) AS total_marketing_cost FROM marketing_campaigns_table) AS cc;\n",
        "\"\"\", conn)\n",
        "\n",
        "print(Company_ROI_df)\n"
      ],
      "metadata": {
        "colab": {
          "base_uri": "https://localhost:8080/"
        },
        "id": "aepB4fVR9ys0",
        "outputId": "bd2ebee0-64b8-432c-db6f-9bfbb6483f42"
      },
      "execution_count": null,
      "outputs": [
        {
          "output_type": "stream",
          "name": "stdout",
          "text": [
            "  Company_ROI\n",
            "0       6.83%\n"
          ]
        }
      ]
    },
    {
      "cell_type": "markdown",
      "source": [
        "**Cost per Click**"
      ],
      "metadata": {
        "id": "BDHRg1W0Sn9l"
      }
    },
    {
      "cell_type": "code",
      "source": [
        "Cost_Per_Click_df = pd.read_sql_query(\"\"\"\n",
        "SELECT\n",
        "    ROUND(AVG(cost_per_campaign.cost_per_click), 2) AS cost_per_click\n",
        "FROM (\n",
        "    SELECT\n",
        "        cc.campaign_id,\n",
        "        cc.total_cost,\n",
        "        COALESCE(c.total_clicks, 0) AS total_clicks,\n",
        "        CASE\n",
        "            WHEN COALESCE(c.total_clicks, 0) = 0 THEN 0\n",
        "            ELSE ROUND(cc.total_cost / NULLIF(c.total_clicks, 0), 2)\n",
        "        END AS cost_per_click\n",
        "    FROM (\n",
        "        SELECT campaign_id, SUM(cost) AS total_cost\n",
        "        FROM marketing_campaigns_table\n",
        "        GROUP BY campaign_id\n",
        "    ) AS cc\n",
        "    LEFT JOIN (\n",
        "        SELECT campaign_id, SUM(click_rate * reach / 100.0) AS total_clicks\n",
        "        FROM campaign_engagement_table\n",
        "        GROUP BY campaign_id\n",
        "    ) AS c\n",
        "    ON cc.campaign_id = c.campaign_id\n",
        ") AS cost_per_campaign;\n",
        "\n",
        "\"\"\", conn)\n",
        "\n",
        "print(Cost_Per_Click_df)"
      ],
      "metadata": {
        "colab": {
          "base_uri": "https://localhost:8080/"
        },
        "id": "Un84bNSvlOcS",
        "outputId": "86619590-4e94-40c7-d090-30a70838a23c"
      },
      "execution_count": null,
      "outputs": [
        {
          "output_type": "stream",
          "name": "stdout",
          "text": [
            "   cost_per_click\n",
            "0             3.6\n"
          ]
        }
      ]
    },
    {
      "cell_type": "markdown",
      "source": [
        "# **Average Revenue Generated per Campaign**"
      ],
      "metadata": {
        "id": "hdZJeKXmTLdP"
      }
    },
    {
      "cell_type": "code",
      "source": [
        "Avg_Revenue_Per_Campaign_df = pd.read_sql_query(\"\"\"\n",
        "SELECT\n",
        "    CASE\n",
        "        WHEN tc.total_campaign = 0 THEN 0\n",
        "        ELSE ROUND(tr.total_revenue / NULLIF(tc.total_campaign, 0), 2)\n",
        "    END AS Avg_Revenue_Per_Campaign\n",
        "FROM\n",
        "    (SELECT SUM(amount) AS total_revenue\n",
        "     FROM orders_table\n",
        "     WHERE order_date >= '2024-08-01'\n",
        "    ) AS tr\n",
        "JOIN\n",
        "    (SELECT COUNT(campaign_id) AS total_campaign\n",
        "     FROM campaign_engagement_table\n",
        "    ) AS tc;\n",
        "\"\"\", conn)\n",
        "\n",
        "print(Avg_Revenue_Per_Campaign_df)\n"
      ],
      "metadata": {
        "colab": {
          "base_uri": "https://localhost:8080/"
        },
        "id": "oIk8QkO3_Gjt",
        "outputId": "f5c9eabf-085d-4dab-ade7-8bfe66ad66ac"
      },
      "execution_count": null,
      "outputs": [
        {
          "output_type": "stream",
          "name": "stdout",
          "text": [
            "   Avg_Revenue_Per_Campaign\n",
            "0                  83724.95\n"
          ]
        }
      ]
    },
    {
      "cell_type": "markdown",
      "source": [
        "**Sales across Month**"
      ],
      "metadata": {
        "id": "S1FdewVyUFpk"
      }
    },
    {
      "cell_type": "code",
      "source": [
        "import pandas as pd\n",
        "\n",
        "# 1. Orders Discount Used DataFrame:\n",
        "Orders_Discount_Used_df = pd.read_sql_query(\"\"\"\n",
        "SELECT\n",
        "    order_id,\n",
        "    order_date,\n",
        "    amount,\n",
        "    CASE\n",
        "        WHEN discount_id IS NULL OR discount_id = '' THEN 'N'\n",
        "        ELSE 'Y'\n",
        "    END AS discount_used\n",
        "FROM orders_table;\n",
        "\"\"\", conn)\n",
        "\n",
        "# 2. Monthly Amount by Discount Usage DataFrame:\n",
        "Monthly_Amount_by_Discount_df = pd.read_sql_query(\"\"\"\n",
        "SELECT\n",
        "    strftime('%Y-%m', order_date) AS Month,\n",
        "    SUM(CASE WHEN discount_id IS NOT NULL AND discount_id <> '' THEN amount ELSE 0 END) AS Discount_Used_Amount,\n",
        "    SUM(CASE WHEN discount_id IS NULL OR discount_id = '' THEN amount ELSE 0 END) AS Discount_Not_Used_Amount\n",
        "FROM orders_table\n",
        "GROUP BY strftime('%Y-%m', order_date)\n",
        "ORDER BY Month;\n",
        "\"\"\", conn)\n",
        "\n",
        "print(Monthly_Amount_by_Discount_df)\n"
      ],
      "metadata": {
        "colab": {
          "base_uri": "https://localhost:8080/"
        },
        "id": "XFGjp4beUOWv",
        "outputId": "c4eb4304-4e4a-453d-b8b2-cf891b15c46f"
      },
      "execution_count": null,
      "outputs": [
        {
          "output_type": "stream",
          "name": "stdout",
          "text": [
            "      Month  Discount_Used_Amount  Discount_Not_Used_Amount\n",
            "0   2024-01              59716.43                 299454.90\n",
            "1   2024-02              29068.93                 267936.70\n",
            "2   2024-03              52840.41                 341915.81\n",
            "3   2024-04              10775.14                 136278.47\n",
            "4   2024-05              14982.25                 142987.12\n",
            "5   2024-06              21853.94                 119786.77\n",
            "6   2024-07              11499.10                 131311.12\n",
            "7   2024-08             169919.87                  10071.71\n",
            "8   2024-09             216252.57                  41918.94\n",
            "9   2024-10             252066.14                  32479.67\n",
            "10  2024-11             311935.88                  12200.12\n",
            "11  2024-12             195560.13                  13469.22\n"
          ]
        }
      ]
    },
    {
      "cell_type": "markdown",
      "source": [
        "# **Marketing Reach vs Cost for Different Campaign**"
      ],
      "metadata": {
        "id": "uZN_V29JXBgx"
      }
    },
    {
      "cell_type": "code",
      "source": [
        "Campaign_Cost_Reach_df = pd.read_sql_query(\"\"\"\n",
        "SELECT\n",
        "    c.campaign_id,\n",
        "    c.total_cost,\n",
        "    COALESCE(r.total_reach, 0) AS total_reach\n",
        "FROM\n",
        "    (SELECT campaign_id, SUM(cost) AS total_cost\n",
        "     FROM marketing_campaigns_table\n",
        "     GROUP BY campaign_id\n",
        "    ) AS c\n",
        "LEFT JOIN\n",
        "    (SELECT campaign_id, SUM(reach) AS total_reach\n",
        "     FROM campaign_engagement_table\n",
        "     GROUP BY campaign_id\n",
        "    ) AS r\n",
        "ON c.campaign_id = r.campaign_id;\n",
        "\"\"\", conn)\n",
        "\n",
        "print(Campaign_Cost_Reach_df)\n"
      ],
      "metadata": {
        "colab": {
          "base_uri": "https://localhost:8080/"
        },
        "id": "wP6MSt2v_n9l",
        "outputId": "413e5c77-33eb-423c-d208-ebdc2de040b3"
      },
      "execution_count": null,
      "outputs": [
        {
          "output_type": "stream",
          "name": "stdout",
          "text": [
            "    campaign_id  total_cost  total_reach\n",
            "0          1001     48000.0       200000\n",
            "1          1002     60000.0       350000\n",
            "2          1003     36000.0       480000\n",
            "3          1004     72000.0       600000\n",
            "4          1005     28000.0       720000\n",
            "5          1006     52000.0       250000\n",
            "6          1007     56000.0       400000\n",
            "7          1008     38500.0       520000\n",
            "8          1009     49000.0       650000\n",
            "9          1010     28000.0       300000\n",
            "10         1011     59500.0       420000\n",
            "11         1012     21000.0       550000\n",
            "12         1013     66500.0       700000\n",
            "13         1014     35000.0       270000\n",
            "14         1015     70000.0       380000\n"
          ]
        }
      ]
    },
    {
      "cell_type": "markdown",
      "source": [
        "**Revenue per City**"
      ],
      "metadata": {
        "id": "efhc13b-c9c6"
      }
    },
    {
      "cell_type": "code",
      "source": [
        "Revenue_Per_City_df = pd.read_sql_query(\"\"\"\n",
        "SELECT\n",
        "    c.city_id,\n",
        "    ct.city,\n",
        "    ROUND(SUM(o.amount), 2) AS total_revenue\n",
        "FROM orders_table o\n",
        "JOIN customer_table c\n",
        "    ON o.customer_id = c.customer_id\n",
        "JOIN city_table ct\n",
        "    ON c.city_id = ct.city_id\n",
        "GROUP BY c.city_id, ct.city\n",
        "ORDER BY total_revenue DESC;\n",
        "\"\"\", conn)\n",
        "\n",
        "print(Revenue_Per_City_df.head(10))\n"
      ],
      "metadata": {
        "colab": {
          "base_uri": "https://localhost:8080/"
        },
        "id": "b5FbeK5m-vRV",
        "outputId": "d02f4083-45b1-4989-8dac-e3b7887861a8"
      },
      "execution_count": null,
      "outputs": [
        {
          "output_type": "stream",
          "name": "stdout",
          "text": [
            "  city_id        city  total_revenue\n",
            "0    Y2VK      London      309123.15\n",
            "1    C6WB   Sheffield      276798.42\n",
            "2    KJRQ   Liverpool      272225.13\n",
            "3    7W41     Bristol      241757.51\n",
            "4    92R4       Leeds      241377.13\n",
            "5    XBR7  Nottingham      238636.38\n",
            "6    B5VW  Manchester      236244.81\n",
            "7    PYH6   Edinburgh      216451.61\n",
            "8    30AN     Glasgow      198162.62\n",
            "9    XU5I  Birmingham      183467.61\n"
          ]
        }
      ]
    },
    {
      "cell_type": "markdown",
      "source": [
        "**Profit per Category**"
      ],
      "metadata": {
        "id": "RY1aT6SydcA8"
      }
    },
    {
      "cell_type": "code",
      "source": [
        "Profit_per_Category_df = pd.read_sql_query(\"\"\"\n",
        "SELECT\n",
        "    c.category_id,\n",
        "    c.category_name,\n",
        "    ROUND(SUM((p.selling_price - p.cost_price) * od.quantity), 2) AS total_profit\n",
        "FROM orders_table o\n",
        "JOIN order_details_table od\n",
        "    ON o.order_id = od.order_id\n",
        "JOIN products_table p\n",
        "    ON od.product_id = p.product_id\n",
        "JOIN category_table c\n",
        "    ON p.category_id = c.category_id\n",
        "GROUP BY c.category_id, c.category_name\n",
        "ORDER BY total_profit DESC;\n",
        "\"\"\", conn)\n",
        "\n",
        "print(Profit_per_Category_df)\n",
        "\n",
        "\n"
      ],
      "metadata": {
        "colab": {
          "base_uri": "https://localhost:8080/"
        },
        "id": "YcNoTDnzdPVe",
        "outputId": "4d272726-d16b-434e-a158-20b0498c4ef9"
      },
      "execution_count": null,
      "outputs": [
        {
          "output_type": "stream",
          "name": "stdout",
          "text": [
            "   category_id          category_name  total_profit\n",
            "0         E387          Miscellaneous    1419009.24\n",
            "1         7EE3            Electronics     199748.35\n",
            "2         O4BF           Home & Decor     105313.94\n",
            "3         0DCP               Footwear      24019.29\n",
            "4         C3E5            Toys & Gift      18966.68\n",
            "5         7FE3  Clothes & Accessories      18719.43\n",
            "6         715T         Home & Kitchen       5571.10\n",
            "7         ZP25       Food & Beverages       2486.97\n",
            "8         TG47        Health & Beauty       2208.35\n",
            "9         A2CA            Art & Craft        380.75\n",
            "10        2D5Y        Music Equipment          8.85\n"
          ]
        }
      ]
    },
    {
      "cell_type": "markdown",
      "source": [
        "**Discount Effectiveness**"
      ],
      "metadata": {
        "id": "kKdfgt0jdtJ6"
      }
    },
    {
      "cell_type": "code",
      "source": [
        "Discount_effective_df = pd.read_sql_query(\"\"\"\n",
        "SELECT\n",
        "    dtt.type_of_discount,  -- Select type_of_discount from discount_type_table\n",
        "    COUNT(ot.order_id) AS total_orders,\n",
        "    SUM(ot.amount) AS total_revenue -- Assuming 'amount' column in orders_table represents total amount\n",
        "FROM orders_table ot  -- Alias orders_table as ot\n",
        "JOIN discount_table dt ON ot.discount_id = dt.discount_id  -- Join with discount_table using discount_id\n",
        "JOIN discount_type_table dtt ON dt.discount_type_id = dtt.discount_type_id --Join with discount type table\n",
        "WHERE ot.order_date >= '1/08/24'\n",
        "GROUP BY dtt.type_of_discount  -- Group by type_of_discount\n",
        "ORDER BY total_revenue DESC;\n",
        "\"\"\", conn)\n",
        "\n",
        "print(Discount_effective_df)"
      ],
      "metadata": {
        "colab": {
          "base_uri": "https://localhost:8080/"
        },
        "id": "zB5P8TYadrSX",
        "outputId": "f532f8ab-445b-4471-cca4-3b88956d1e1a"
      },
      "execution_count": null,
      "outputs": [
        {
          "output_type": "stream",
          "name": "stdout",
          "text": [
            "               type_of_discount  total_orders  total_revenue\n",
            "0           Early Bird Discount            51      134919.92\n",
            "1                  Holiday Sale            87      117338.09\n",
            "2      Loyalty Program Discount            81      107164.02\n",
            "3             Referral Discount            52      100844.58\n",
            "4      Weekend Special Discount            80       89772.44\n",
            "5       First Purchase Discount            55       86777.79\n",
            "6        Bulk Purchase Discount            55       66719.69\n",
            "7   Friends and Family Discount            31       64369.69\n",
            "8   Exclusive App-Only Discount            43       62513.03\n",
            "9             Seasonal Discount            38       61144.24\n",
            "10         Buy One Get One Free            31       58218.25\n",
            "11                   Flash Sale            28       57670.55\n",
            "12               Clearance Sale            44       57157.95\n",
            "13             Student Discount            46       56403.49\n",
            "14      Senior Citizen Discount            60       55482.94\n",
            "15           Limited-Time Offer            36       51292.66\n",
            "16               Cashback Offer            27       49371.78\n",
            "17          VIP Member Discount            27       39883.19\n",
            "18             Anniversary Sale            28       17280.22\n",
            "19             Mystery Discount             4       12146.27\n"
          ]
        }
      ]
    },
    {
      "cell_type": "markdown",
      "source": [
        "**Revenue Per Campaign**"
      ],
      "metadata": {
        "id": "IHApW37MlKP_"
      }
    },
    {
      "cell_type": "code",
      "source": [
        "Revenue_per_Campaign_df = pd.read_sql_query(\"\"\"\n",
        "SELECT\n",
        "    c.campaign_id,\n",
        "    ROUND(SUM(o.amount), 2) AS total_revenue\n",
        "FROM orders_table o\n",
        "JOIN discount_table d\n",
        "    ON o.discount_id = d.discount_id\n",
        "JOIN campaign_engagement_table c\n",
        "    ON d.campaign_id = c.campaign_id\n",
        "GROUP BY c.campaign_id\n",
        "ORDER BY total_revenue DESC;\n",
        "\"\"\", conn)\n",
        "\n",
        "\n",
        "print(Revenue_per_Campaign_df)\n"
      ],
      "metadata": {
        "colab": {
          "base_uri": "https://localhost:8080/"
        },
        "id": "DJMSyXb8j-Ti",
        "outputId": "8b8a9ac2-4ed7-481a-e0ac-136f9f53ddf9"
      },
      "execution_count": null,
      "outputs": [
        {
          "output_type": "stream",
          "name": "stdout",
          "text": [
            "    campaign_id  total_revenue\n",
            "0          1011      126093.47\n",
            "1          1003      115728.65\n",
            "2          1006      115119.90\n",
            "3          1008      101762.79\n",
            "4          1014       94555.57\n",
            "5          1015       91661.59\n",
            "6          1010       89056.20\n",
            "7          1005       85449.24\n",
            "8          1004       84585.46\n",
            "9          1012       82976.96\n",
            "10         1001       82190.65\n",
            "11         1013       77002.20\n",
            "12         1002       71480.62\n",
            "13         1007       67255.37\n",
            "14         1009       61552.12\n"
          ]
        }
      ]
    }
  ]
}