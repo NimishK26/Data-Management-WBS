{
  "nbformat": 4,
  "nbformat_minor": 0,
  "metadata": {
    "colab": {
      "provenance": [],
      "authorship_tag": "ABX9TyP/KEyfbgCX5gEQh8VaAqA3",
      "include_colab_link": true
    },
    "kernelspec": {
      "name": "python3",
      "display_name": "Python 3"
    },
    "language_info": {
      "name": "python"
    }
  },
  "cells": [
    {
      "cell_type": "markdown",
      "metadata": {
        "id": "view-in-github",
        "colab_type": "text"
      },
      "source": [
        "<a href=\"https://colab.research.google.com/github/NimishK26/Data-Management-WBS/blob/main/SQL_Database_WBS.ipynb\" target=\"_parent\"><img src=\"https://colab.research.google.com/assets/colab-badge.svg\" alt=\"Open In Colab\"/></a>"
      ]
    },
    {
      "cell_type": "code",
      "execution_count": 2,
      "metadata": {
        "id": "I83o-nuimDAj"
      },
      "outputs": [],
      "source": [
        "import sqlite3"
      ]
    },
    {
      "cell_type": "code",
      "source": [
        "# Establish a connection to the database file (or create it if it doesn't exist)\n",
        "conn = sqlite3.connect('Cartify.db')\n",
        "cursor = conn.cursor()\n",
        "# Customer Table\n",
        "cursor.execute('''\n",
        "CREATE TABLE customer_table (\n",
        "customer_id TEXT PRIMARY KEY,\n",
        "first_name TEXT NOT NULL,\n",
        "last_name TEXT NOT NULL,\n",
        "gender TEXT NOT NULL,\n",
        "date_of_birth DATE NOT NULL,\n",
        "email TEXT UNIQUE NOT NULL,\n",
        "phone_number INTEGER UNIQUE NOT NULL,\n",
        "address TEXT NOT NULL,\n",
        "city_id TEXT NOT NULL,\n",
        "postcode TEXT NOT NULL,\n",
        "country_id TEXT NOT NULL,\n",
        "FOREIGN KEY (city_id) REFERENCES city_table(city_id) ON DELETE\n",
        "CASCADE\n",
        "FOREIGN KEY (country_id) REFERENCES country_table(country_id) ON\n",
        "DELETE CASCADE\n",
        ");\n",
        "''')"
      ],
      "metadata": {
        "colab": {
          "base_uri": "https://localhost:8080/"
        },
        "id": "MWsufVGPmPRY",
        "outputId": "b4ab1cb4-b4e2-43ef-a313-2beea6a9762e"
      },
      "execution_count": 6,
      "outputs": [
        {
          "output_type": "execute_result",
          "data": {
            "text/plain": [
              "<sqlite3.Cursor at 0x7fc17c0c93c0>"
            ]
          },
          "metadata": {},
          "execution_count": 6
        }
      ]
    },
    {
      "cell_type": "code",
      "source": [
        "# Orders Table\n",
        "cursor.execute('''\n",
        "CREATE TABLE orders_table (\n",
        "order_id TEXT PRIMARY KEY,\n",
        "customer_id TEXT NOT NULL,\n",
        "order_date DATE NOT NULL,\n",
        "discount_id INTEGER,\n",
        "amount REAL NOT NULL,\n",
        "FOREIGN KEY (customer_id) REFERENCES customer_table(customer_id)\n",
        "ON DELETE CASCADE,\n",
        "FOREIGN KEY (discount_id) REFERENCES discount_table(discount_id)\n",
        "ON DELETE CASCADE\n",
        ");\n",
        "''')"
      ],
      "metadata": {
        "colab": {
          "base_uri": "https://localhost:8080/"
        },
        "id": "LQsi5IQymdLw",
        "outputId": "a371e511-2624-4980-b043-8b636e225cf7"
      },
      "execution_count": 7,
      "outputs": [
        {
          "output_type": "execute_result",
          "data": {
            "text/plain": [
              "<sqlite3.Cursor at 0x7fc17c0c93c0>"
            ]
          },
          "metadata": {},
          "execution_count": 7
        }
      ]
    },
    {
      "cell_type": "code",
      "source": [
        "# Order Details Table\n",
        "cursor.execute('''\n",
        "CREATE TABLE order_details_table (\n",
        "order_id TEXT,\n",
        "product_id TEXT,\n",
        "quantity INTEGER NOT NULL,\n",
        "PRIMARY KEY (order_id, product_id),\n",
        "FOREIGN KEY (order_id) REFERENCES orders_table(order_id) ON DELETE\n",
        "CASCADE,\n",
        "FOREIGN KEY (product_id) REFERENCES products_table(product_id) ON\n",
        "DELETE CASCADE\n",
        ");\n",
        "''')"
      ],
      "metadata": {
        "colab": {
          "base_uri": "https://localhost:8080/"
        },
        "id": "LjwbXA52mnKk",
        "outputId": "558a832c-db9f-40d0-faac-2f7fb40db039"
      },
      "execution_count": 8,
      "outputs": [
        {
          "output_type": "execute_result",
          "data": {
            "text/plain": [
              "<sqlite3.Cursor at 0x7fc17c0c93c0>"
            ]
          },
          "metadata": {},
          "execution_count": 8
        }
      ]
    },
    {
      "cell_type": "code",
      "source": [
        "# Products Table\n",
        "cursor.execute('''\n",
        "CREATE TABLE products_table (\n",
        "product_id TEXT PRIMARY KEY,\n",
        "product_name TEXT NOT NULL,\n",
        "selling_price REAL NOT NULL,\n",
        "category_id TEXT NOT NULL,\n",
        "cost_price REAL NOT NULL,\n",
        "stock INTEGER NOT NULL,\n",
        "FOREIGN KEY (category_id) REFERENCES category_table(category_id)\n",
        "ON DELETE CASCADE\n",
        ");\n",
        "''')"
      ],
      "metadata": {
        "colab": {
          "base_uri": "https://localhost:8080/"
        },
        "id": "uAVf9HdzmqFh",
        "outputId": "3654a378-3dc7-40b3-aa67-71aff59cc564"
      },
      "execution_count": 9,
      "outputs": [
        {
          "output_type": "execute_result",
          "data": {
            "text/plain": [
              "<sqlite3.Cursor at 0x7fc17c0c93c0>"
            ]
          },
          "metadata": {},
          "execution_count": 9
        }
      ]
    },
    {
      "cell_type": "code",
      "source": [
        "# Product Review Table\n",
        "cursor.execute('''\n",
        "CREATE TABLE product_review_table (\n",
        "review_id INTEGER PRIMARY KEY AUTOINCREMENT,\n",
        "customer_id TEXT NOT NULL,\n",
        "product_id TEXT NOT NULL,\n",
        "rating INTEGER CHECK (rating BETWEEN 1 AND 5) NOT NULL,\n",
        "date DATE NOT NULL,\n",
        "FOREIGN KEY (customer_id) REFERENCES customer_table(customer_id)\n",
        "ON DELETE CASCADE,\n",
        "FOREIGN KEY (product_id) REFERENCES products_table(product_id) ON\n",
        "DELETE CASCADE\n",
        ");\n",
        "''')"
      ],
      "metadata": {
        "colab": {
          "base_uri": "https://localhost:8080/"
        },
        "id": "rmYHxnDRmr7i",
        "outputId": "f258b1e8-6a8a-41f6-edad-f28694afee28"
      },
      "execution_count": 10,
      "outputs": [
        {
          "output_type": "execute_result",
          "data": {
            "text/plain": [
              "<sqlite3.Cursor at 0x7fc17c0c93c0>"
            ]
          },
          "metadata": {},
          "execution_count": 10
        }
      ]
    },
    {
      "cell_type": "code",
      "source": [
        "# Category Table\n",
        "cursor.execute('''\n",
        "CREATE TABLE category_table (\n",
        "category_id TEXT PRIMARY KEY,\n",
        "category_name TEXT UNIQUE NOT NULL\n",
        ");\n",
        "''')"
      ],
      "metadata": {
        "colab": {
          "base_uri": "https://localhost:8080/"
        },
        "id": "H8EM0ckVmuLb",
        "outputId": "10d00836-28ef-43c9-a330-6ee7f6c18e5f"
      },
      "execution_count": 11,
      "outputs": [
        {
          "output_type": "execute_result",
          "data": {
            "text/plain": [
              "<sqlite3.Cursor at 0x7fc17c0c93c0>"
            ]
          },
          "metadata": {},
          "execution_count": 11
        }
      ]
    },
    {
      "cell_type": "code",
      "source": [
        "# Website Activity Table\n",
        "cursor.execute('''\n",
        "CREATE TABLE website_activity_table (\n",
        "activity_id TEXT PRIMARY KEY,\n",
        "category_id TEXT NOT NULL,\n",
        "date DATE NOT NULL,\n",
        "time TIME NOT NULL,\n",
        "customer_id TEXT NOT NULL,\n",
        "time_spent REAL NOT NULL,\n",
        "order_placed TEXT CHECK (order_placed IN ('Y', 'N')) NOT NULL,\n",
        "FOREIGN KEY (customer_id) REFERENCES customer_table(customer_id)\n",
        "ON DELETE CASCADE,\n",
        "FOREIGN KEY (category_id) REFERENCES category_table(category_id)\n",
        "ON DELETE CASCADE\n",
        ");\n",
        "''')"
      ],
      "metadata": {
        "colab": {
          "base_uri": "https://localhost:8080/"
        },
        "id": "cv5Rc4D0mwQy",
        "outputId": "4b47ecf8-1ac7-4320-a08a-b80e59957cef"
      },
      "execution_count": 12,
      "outputs": [
        {
          "output_type": "execute_result",
          "data": {
            "text/plain": [
              "<sqlite3.Cursor at 0x7fc17c0c93c0>"
            ]
          },
          "metadata": {},
          "execution_count": 12
        }
      ]
    },
    {
      "cell_type": "code",
      "source": [
        "# Discount Table\n",
        "cursor.execute('''\n",
        "CREATE TABLE discount_table (\n",
        "discount_id INTEGER PRIMARY KEY AUTOINCREMENT,\n",
        "campaign_id INTEGER NOT NULL,\n",
        "discount_type_id TEXT NOT NULL,\n",
        "coupon_code TEXT UNIQUE NOT NULL,\n",
        "FOREIGN KEY (discount_type_id) REFERENCES\n",
        "discount_type_table(discount_type_id) ON DELETE CASCADE,\n",
        "FOREIGN KEY (campaign_id) REFERENCES\n",
        "campaign_engagement_table(campaign_id) ON DELETE CASCADE\n",
        ");\n",
        "''')"
      ],
      "metadata": {
        "colab": {
          "base_uri": "https://localhost:8080/"
        },
        "id": "T92DhFfamyO0",
        "outputId": "b5760641-36f7-4cc7-cbc7-7c0d67c71cf6"
      },
      "execution_count": 13,
      "outputs": [
        {
          "output_type": "execute_result",
          "data": {
            "text/plain": [
              "<sqlite3.Cursor at 0x7fc17c0c93c0>"
            ]
          },
          "metadata": {},
          "execution_count": 13
        }
      ]
    },
    {
      "cell_type": "code",
      "source": [
        "# Discount Type Table\n",
        "cursor.execute('''\n",
        "CREATE TABLE discount_type_table (\n",
        "discount_type_id TEXT PRIMARY KEY,\n",
        "type_of_discount TEXT UNIQUE NOT NULL\n",
        ");\n",
        "''')"
      ],
      "metadata": {
        "colab": {
          "base_uri": "https://localhost:8080/"
        },
        "id": "M-6R4infmz5E",
        "outputId": "c7c00241-c3a8-47a7-b712-39a88c78da9a"
      },
      "execution_count": 15,
      "outputs": [
        {
          "output_type": "execute_result",
          "data": {
            "text/plain": [
              "<sqlite3.Cursor at 0x7fc17c0c93c0>"
            ]
          },
          "metadata": {},
          "execution_count": 15
        }
      ]
    },
    {
      "cell_type": "code",
      "source": [
        "# Campaign Type Table\n",
        "cursor.execute('''\n",
        "CREATE TABLE campaign_type_table (\n",
        "campaign_type_id INTEGER PRIMARY KEY AUTOINCREMENT,\n",
        "platform TEXT UNIQUE NOT NULL\n",
        ");\n",
        "''')"
      ],
      "metadata": {
        "colab": {
          "base_uri": "https://localhost:8080/"
        },
        "id": "76u91JHim6_O",
        "outputId": "88ef9aed-8471-4ed1-b4ef-9a7d95bc202a"
      },
      "execution_count": 16,
      "outputs": [
        {
          "output_type": "execute_result",
          "data": {
            "text/plain": [
              "<sqlite3.Cursor at 0x7fc17c0c93c0>"
            ]
          },
          "metadata": {},
          "execution_count": 16
        }
      ]
    },
    {
      "cell_type": "code",
      "source": [
        "# Marketing Campaigns Table\n",
        "cursor.execute('''\n",
        "CREATE TABLE marketing_campaigns_table (\n",
        "campaign_id INTEGER NOT NULL,\n",
        "city_id TEXT NOT NULL,\n",
        "campaign_type_id INTEGER NOT NULL,\n",
        "start_date DATE NOT NULL,\n",
        "end_date DATE NOT NULL,\n",
        "cost REAL NOT NULL,\n",
        "PRIMARY KEY (campaign_id, city_id),\n",
        "FOREIGN KEY (campaign_type_id) REFERENCES\n",
        "campaign_type_table(campaign_type_id) ON DELETE CASCADE,\n",
        "FOREIGN KEY (city_id) REFERENCES city_table(city_id) ON DELETE\n",
        "CASCADE\n",
        ");\n",
        "''')"
      ],
      "metadata": {
        "colab": {
          "base_uri": "https://localhost:8080/"
        },
        "id": "y3k79Lwsm9mW",
        "outputId": "daa0d559-2bcb-4617-e594-4ef14b5daa6e"
      },
      "execution_count": 17,
      "outputs": [
        {
          "output_type": "execute_result",
          "data": {
            "text/plain": [
              "<sqlite3.Cursor at 0x7fc17c0c93c0>"
            ]
          },
          "metadata": {},
          "execution_count": 17
        }
      ]
    },
    {
      "cell_type": "code",
      "source": [
        "# Campaign Engagement Table\n",
        "cursor.execute('''\n",
        "CREATE TABLE campaign_engagement_table (\n",
        "campaign_id INTEGER PRIMARY KEY AUTOINCREMENT,\n",
        "click_rate REAL NOT NULL,\n",
        "reach INTEGER NOT NULL,\n",
        "FOREIGN KEY (campaign_id) REFERENCES\n",
        "marketing_campaigns_table(campaign_id) ON DELETE CASCADE\n",
        ");\n",
        "''')"
      ],
      "metadata": {
        "colab": {
          "base_uri": "https://localhost:8080/"
        },
        "id": "NA0WADyym_X-",
        "outputId": "3aa7d4e2-158e-437d-e083-43a502af1c4b"
      },
      "execution_count": 18,
      "outputs": [
        {
          "output_type": "execute_result",
          "data": {
            "text/plain": [
              "<sqlite3.Cursor at 0x7fc17c0c93c0>"
            ]
          },
          "metadata": {},
          "execution_count": 18
        }
      ]
    },
    {
      "cell_type": "code",
      "source": [
        "# City Table\n",
        "cursor.execute('''\n",
        "CREATE TABLE city_table (\n",
        "city_id TEXT PRIMARY KEY,\n",
        "city TEXT UNIQUE NOT NULL,region_id TEXT NOT NULL,\n",
        "FOREIGN KEY (region_id) REFERENCES region_table(region_id) ON\n",
        "DELETE CASCADE\n",
        ");\n",
        "''')"
      ],
      "metadata": {
        "colab": {
          "base_uri": "https://localhost:8080/"
        },
        "id": "4M9KlFjCnA7r",
        "outputId": "eb0713ba-3304-449e-b59f-f54880b6eda1"
      },
      "execution_count": 19,
      "outputs": [
        {
          "output_type": "execute_result",
          "data": {
            "text/plain": [
              "<sqlite3.Cursor at 0x7fc17c0c93c0>"
            ]
          },
          "metadata": {},
          "execution_count": 19
        }
      ]
    },
    {
      "cell_type": "code",
      "source": [
        "# Region Table\n",
        "cursor.execute('''\n",
        "CREATE TABLE region_table (\n",
        "region_id TEXT PRIMARY KEY,\n",
        "region TEXT UNIQUE NOT NULL\n",
        ");\n",
        "''')"
      ],
      "metadata": {
        "colab": {
          "base_uri": "https://localhost:8080/"
        },
        "id": "kL2WVCH-nEsB",
        "outputId": "16df30c4-05d2-43c1-fde7-994137212237"
      },
      "execution_count": 20,
      "outputs": [
        {
          "output_type": "execute_result",
          "data": {
            "text/plain": [
              "<sqlite3.Cursor at 0x7fc17c0c93c0>"
            ]
          },
          "metadata": {},
          "execution_count": 20
        }
      ]
    },
    {
      "cell_type": "code",
      "source": [
        "# Country Table\n",
        "cursor.execute('''\n",
        "CREATE TABLE country_table (\n",
        "country_id TEXT PRIMARY KEY,\n",
        "country TEXT UNIQUE NOT NULL\n",
        ");\n",
        "''')"
      ],
      "metadata": {
        "colab": {
          "base_uri": "https://localhost:8080/"
        },
        "id": "19zDFqnZnGMq",
        "outputId": "c75626c8-8494-404a-8d61-0c8a4c7f989d"
      },
      "execution_count": 21,
      "outputs": [
        {
          "output_type": "execute_result",
          "data": {
            "text/plain": [
              "<sqlite3.Cursor at 0x7fc17c0c93c0>"
            ]
          },
          "metadata": {},
          "execution_count": 21
        }
      ]
    },
    {
      "cell_type": "code",
      "source": [
        "# Save the changes to the database\n",
        "conn.commit()\n",
        "print(\"Database and tables created successfully!\")"
      ],
      "metadata": {
        "colab": {
          "base_uri": "https://localhost:8080/"
        },
        "id": "9AV8z10bnIda",
        "outputId": "f00328b4-d84a-4283-f189-0f7ba697c00e"
      },
      "execution_count": 22,
      "outputs": [
        {
          "output_type": "stream",
          "name": "stdout",
          "text": [
            "Database and tables created successfully!\n"
          ]
        }
      ]
    }
  ]
}