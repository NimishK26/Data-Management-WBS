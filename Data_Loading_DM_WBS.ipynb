{
  "nbformat": 4,
  "nbformat_minor": 0,
  "metadata": {
    "colab": {
      "provenance": [],
      "authorship_tag": "ABX9TyP0hYl4D6LKlx7RJ6Hxq1I1",
      "include_colab_link": true
    },
    "kernelspec": {
      "name": "python3",
      "display_name": "Python 3"
    },
    "language_info": {
      "name": "python"
    }
  },
  "cells": [
    {
      "cell_type": "markdown",
      "metadata": {
        "id": "view-in-github",
        "colab_type": "text"
      },
      "source": [
        "<a href=\"https://colab.research.google.com/github/NimishK26/Data-Management-WBS/blob/main/Data_Loading_DM_WBS.ipynb\" target=\"_parent\"><img src=\"https://colab.research.google.com/assets/colab-badge.svg\" alt=\"Open In Colab\"/></a>"
      ]
    },
    {
      "cell_type": "code",
      "execution_count": 2,
      "metadata": {
        "colab": {
          "base_uri": "https://localhost:8080/",
          "height": 105
        },
        "id": "wapvczovoqvH",
        "outputId": "70e928a8-6add-4197-f066-50d5f98a3ca4"
      },
      "outputs": [
        {
          "output_type": "error",
          "ename": "IndentationError",
          "evalue": "expected an indented block after function definition on line 2 (<ipython-input-2-edf11698f386>, line 4)",
          "traceback": [
            "\u001b[0;36m  File \u001b[0;32m\"<ipython-input-2-edf11698f386>\"\u001b[0;36m, line \u001b[0;32m4\u001b[0m\n\u001b[0;31m    with open(csv_file, 'r', encoding='utf-8') as file:\u001b[0m\n\u001b[0m    ^\u001b[0m\n\u001b[0;31mIndentationError\u001b[0m\u001b[0;31m:\u001b[0m expected an indented block after function definition on line 2\n"
          ]
        }
      ],
      "source": [
        "import csv\n",
        "def import_csv_to_table(csv_file, table_name):\n",
        "#opens the file aas read only 'r', doesn't allow the origianl csv to be changed.\n",
        "with open(csv_file, 'r', encoding='utf-8') as file:\n",
        "csv_reader = csv.reader(file, delimiter=';')\n",
        "next(csv_reader) # Skip header row if present\n",
        "for row in csv_reader:\n",
        "#? creates a placeholder for each column in the CSV file.\n",
        "['?','?','?'] - Join makes it a string so it can then be inserted.\n",
        "# use of the '?' reduce risk of SQL injection\n",
        "placeholders = ', '.join(['?' for _ in row])\n",
        "#Assumes that the CSV and table have the same structure\n",
        "(this could be an issue) Would have to specify column names if\n",
        "different.\n",
        "sql = f\"INSERT INTO {table_name} VALUES ({placeholders})\"\n",
        "cursor.execute(sql, row)\n",
        "# Import data from CSV files into the relevant table - Student_Table\n",
        "goes into student table. teh import_csv_to_table is the function,\n",
        "passing the two values across.\n",
        "try:\n",
        "import_csv_to_table('customers.csv', 'customer_table')\n",
        "import_csv_to_table('orders.csv', 'orders_table')\n",
        "import_csv_to_table('orders_details.csv', 'order_details_table')\n",
        "import_csv_to_table('product_data.csv', 'products_table')\n",
        "import_csv_to_table('products_review.csv', 'product_review_table')\n",
        "import_csv_to_table('marketing_campaigns.csv',\n",
        "'marketing_campaigns_table')\n",
        "import_csv_to_table('campaign_type.csv', 'campaign_type_table')\n",
        "import_csv_to_table('discount.csv', 'discount_table')\n",
        "import_csv_to_table('discount_types.csv', 'discount_type_table')\n",
        "import_csv_to_table('campaign_engagement.csv',\n",
        "'campaign_engagement_table')\n",
        "import_csv_to_table('website_activity.csv',\n",
        "'website_activity_table')\n",
        "import_csv_to_table('category_data.csv', 'category_table')\n",
        "import_csv_to_table('cities.csv', 'city_table')\n",
        "import_csv_to_table('region.csv', 'region_table')\n",
        "import_csv_to_table('country.csv', 'country_table')\n",
        "conn.commit()\n",
        "print(\"Data imported successfully!\")\n",
        "except Exception as e:\n",
        "print(f\"An error occurred: {e}\")\n",
        "conn.rollback() # Rollback changes if an error occurred"
      ]
    },
    {
      "cell_type": "markdown",
      "source": [
        "Check Data is Loaded"
      ],
      "metadata": {
        "id": "YLml3mRbp6z8"
      }
    },
    {
      "cell_type": "code",
      "source": [
        "import pandas as pd\n",
        "# Query each table and load into pandas DataFrames\n",
        "customer_df = pd.read_sql_query(\"SELECT * FROM customer_table\", conn)\n",
        "orders_df = pd.read_sql_query(\"SELECT * FROM orders_table\", conn)\n",
        "order_details_df = pd.read_sql_query(\"SELECT * FROM\n",
        "order_details_table\", conn)\n",
        "products_df = pd.read_sql_query(\"SELECT * FROM products_table\", conn)\n",
        "product_review_df = pd.read_sql_query(\"SELECT * FROM\n",
        "product_review_table\", conn)\n",
        "marketing_campaigns_df = pd.read_sql_query(\"SELECT * FROM\n",
        "marketing_campaigns_table\", conn)\n",
        "campaign_type_df = pd.read_sql_query(\"SELECT * FROM\n",
        "campaign_type_table\", conn)\n",
        "discount_df = pd.read_sql_query(\"SELECT * FROM discount_table\", conn)\n",
        "discount_types_df = pd.read_sql_query(\"SELECT * FROM\n",
        "discount_type_table\", conn)\n",
        "campaign_engagement_df = pd.read_sql_query(\"SELECT * FROM\n",
        "campaign_engagement_table\", conn)\n",
        "website_activity_df = pd.read_sql_query(\"SELECT * FROM\n",
        "website_activity_table\", conn)\n",
        "category_df = pd.read_sql_query(\"SELECT * FROM category_table\", conn)\n",
        "city_df = pd.read_sql_query(\"SELECT * FROM city_table\", conn)\n",
        "region_df = pd.read_sql_query(\"SELECT * FROM region_table\", conn)\n",
        "country_df = pd.read_sql_query(\"SELECT * FROM country_table\", conn)\n",
        "# Show the first 5 lines of each DataFrame\n",
        "print(\"Customer Table:\")\n",
        "print(customer_df.head(5))\n",
        "print(\"\\nOrders Table:\")\n",
        "print(orders_df.head(5))\n",
        "print(\"\\nOrder Details Table:\")\n",
        "print(order_details_df.head(5))\n",
        "print(\"\\nProducts Table:\")\n",
        "print(products_df.head(5))\n",
        "print(\"\\nProduct Review Table:\")\n",
        "print(product_review_df.head(5))\n",
        "print(\"\\nMarketing Campaigns Table:\")\n",
        "print(marketing_campaigns_df.head(5))\n",
        "print(\"\\nCampaign Type Table:\")\n",
        "print(campaign_type_df.head(5))\n",
        "print(\"\\nDiscount Table:\")\n",
        "print(discount_df.head(5))\n",
        "print(\"\\nDiscount Types Table:\")\n",
        "print(discount_types_df.head(5))\n",
        "print(\"\\nCampaign Engagement Table:\")\n",
        "print(campaign_engagement_df.head(5))\n",
        "print(\"\\nWebsite Activity Table:\")\n",
        "print(website_activity_df.head(5))\n",
        "print(\"\\nCategory Table:\")\n",
        "print(category_df.head(5))\n",
        "print(\"\\nCity Table:\")\n",
        "print(city_df.head(5))\n",
        "print(\"\\nRegion Table:\")\n",
        "print(region_df.head(5))\n",
        "print(\"\\nCountry Table:\")\n",
        "print(country_df.head(5))"
      ],
      "metadata": {
        "id": "wtZ-rv9Sp1hK"
      },
      "execution_count": null,
      "outputs": []
    },
    {
      "cell_type": "code",
      "source": [],
      "metadata": {
        "id": "V3wWjZO1p-hI"
      },
      "execution_count": null,
      "outputs": []
    }
  ]
}